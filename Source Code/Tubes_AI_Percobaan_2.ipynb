{
  "nbformat": 4,
  "nbformat_minor": 0,
  "metadata": {
    "colab": {
      "name": "Tubes AI Percobaan 2.ipynb",
      "provenance": [],
      "collapsed_sections": []
    },
    "kernelspec": {
      "name": "python3",
      "display_name": "Python 3"
    },
    "language_info": {
      "name": "python"
    },
    "accelerator": "GPU"
  },
  "cells": [
    {
      "cell_type": "code",
      "source": [
        "!wget --no-check-certificate \\\n",
        "    https://github.com/fachris007/Tubes-Ai/raw/main/Dataset.zip \\\n",
        "    -O /tmp/Dataset.zip\n"
      ],
      "metadata": {
        "colab": {
          "base_uri": "https://localhost:8080/"
        },
        "id": "VCTJAiQTH9ba",
        "outputId": "2d0138dc-71f2-48d5-956e-320ec706cc58"
      },
      "execution_count": 1,
      "outputs": [
        {
          "output_type": "stream",
          "name": "stdout",
          "text": [
            "--2021-12-30 22:43:15--  https://github.com/fachris007/Tubes-Ai/raw/main/Dataset.zip\n",
            "Resolving github.com (github.com)... 52.192.72.89\n",
            "Connecting to github.com (github.com)|52.192.72.89|:443... connected.\n",
            "HTTP request sent, awaiting response... 302 Found\n",
            "Location: https://raw.githubusercontent.com/fachris007/Tubes-Ai/main/Dataset.zip [following]\n",
            "--2021-12-30 22:43:16--  https://raw.githubusercontent.com/fachris007/Tubes-Ai/main/Dataset.zip\n",
            "Resolving raw.githubusercontent.com (raw.githubusercontent.com)... 185.199.110.133, 185.199.109.133, 185.199.111.133, ...\n",
            "Connecting to raw.githubusercontent.com (raw.githubusercontent.com)|185.199.110.133|:443... connected.\n",
            "HTTP request sent, awaiting response... 200 OK\n",
            "Length: 21191783 (20M) [application/zip]\n",
            "Saving to: ‘/tmp/Dataset.zip’\n",
            "\n",
            "/tmp/Dataset.zip    100%[===================>]  20.21M   130MB/s    in 0.2s    \n",
            "\n",
            "2021-12-30 22:43:18 (130 MB/s) - ‘/tmp/Dataset.zip’ saved [21191783/21191783]\n",
            "\n"
          ]
        }
      ]
    },
    {
      "cell_type": "code",
      "source": [
        "from google.colab import drive\n",
        "drive.mount('/content/gdrive')"
      ],
      "metadata": {
        "id": "Hjeplfb_tVDu",
        "colab": {
          "base_uri": "https://localhost:8080/"
        },
        "outputId": "e9338309-6e43-4bbf-8e11-3e5c54611c4b"
      },
      "execution_count": 2,
      "outputs": [
        {
          "output_type": "stream",
          "name": "stdout",
          "text": [
            "Mounted at /content/gdrive\n"
          ]
        }
      ]
    },
    {
      "cell_type": "code",
      "source": [
        "# Extract file zip dataset\n",
        "\n",
        "import os\n",
        "import zipfile\n",
        "\n",
        "local_zip = '/tmp/Dataset.zip'\n",
        "zip_ref = zipfile.ZipFile(local_zip, 'r')\n",
        "zip_ref.extractall('/tmp')\n",
        "zip_ref.close()"
      ],
      "metadata": {
        "id": "kXeRX_9MukoD"
      },
      "execution_count": 3,
      "outputs": []
    },
    {
      "cell_type": "code",
      "source": [
        "base_dir = '/tmp/Dataset'\n",
        "train_dir = os.path.join(base_dir, 'Training')\n",
        "val_dir = os.path.join(base_dir, 'Validation')"
      ],
      "metadata": {
        "id": "oC0C5rSnrzCf"
      },
      "execution_count": 4,
      "outputs": []
    },
    {
      "cell_type": "code",
      "source": [
        "female_train_path = train_dir + '/female'\n",
        "female_val_path = val_dir + '/female'\n",
        "\n",
        "male_train_path = train_dir + '/male'\n",
        "male_val_path = val_dir + '/male'\n",
        "\n",
        "female_len_train = len(os.listdir(female_train_path))\n",
        "female_len_val = len(os.listdir(female_val_path))\n",
        "male_len_train = len(os.listdir(male_train_path))\n",
        "male_len_val = len(os.listdir(male_val_path))\n",
        "\n",
        "print(\"jumlah dataset Training : \", female_len_train + male_len_train)\n",
        "print(\"jumlah dataset validasi : \", female_len_val + male_len_val)\n",
        "print(\"\\n\\n\")\n",
        "print(\"jumlah train kelas female : \", female_len_train)\n",
        "print(\"jumlah train kelas male : \", male_len_train)\n",
        "print(\"jumlah validasi kelas female : \", female_len_val)\n",
        "print(\"jumlah validasi kelas male : \", male_len_val)"
      ],
      "metadata": {
        "id": "HBspvJDGIrXH",
        "colab": {
          "base_uri": "https://localhost:8080/"
        },
        "outputId": "4cfbacf2-5693-4ccb-c013-0a155eded0fc"
      },
      "execution_count": 5,
      "outputs": [
        {
          "output_type": "stream",
          "name": "stdout",
          "text": [
            "jumlah dataset Training :  4000\n",
            "jumlah dataset validasi :  400\n",
            "\n",
            "\n",
            "\n",
            "jumlah train kelas female :  2000\n",
            "jumlah train kelas male :  2000\n",
            "jumlah validasi kelas female :  200\n",
            "jumlah validasi kelas male :  200\n"
          ]
        }
      ]
    },
    {
      "cell_type": "code",
      "source": [
        "import tensorflow as tf\n",
        "from tensorflow.keras.optimizers import Adam\n",
        "from tensorflow.keras.preprocessing.image import ImageDataGenerator"
      ],
      "metadata": {
        "id": "Gvv5-NRMOv6o"
      },
      "execution_count": 6,
      "outputs": []
    },
    {
      "cell_type": "markdown",
      "source": [
        "# **Augmentasi Dataset**"
      ],
      "metadata": {
        "id": "gUvsM9CyPUG-"
      }
    },
    {
      "cell_type": "code",
      "source": [
        "train_datagen = ImageDataGenerator(\n",
        "      rescale=1./255,\n",
        "      rotation_range=40,\n",
        "      width_shift_range=0.2,\n",
        "      height_shift_range=0.2,\n",
        "      shear_range=0.2,\n",
        "      zoom_range=0.2,\n",
        "      horizontal_flip=True,\n",
        "      fill_mode='nearest')\n",
        "\n",
        "val_datagen = ImageDataGenerator(rescale=1./255)\n",
        "\n",
        "train_generator = train_datagen.flow_from_directory(\n",
        "        train_dir,\n",
        "        target_size=(224, 224),\n",
        "        batch_size=20,\n",
        "        class_mode='binary')\n",
        "\n",
        "validation_generator = val_datagen.flow_from_directory(\n",
        "        val_dir,\n",
        "        target_size=(224, 224),\n",
        "        batch_size=20,\n",
        "        class_mode='binary')"
      ],
      "metadata": {
        "colab": {
          "base_uri": "https://localhost:8080/"
        },
        "id": "KscAkQOsOp71",
        "outputId": "2673ba53-2a69-4ad8-e7ef-a9b560300609"
      },
      "execution_count": 7,
      "outputs": [
        {
          "output_type": "stream",
          "name": "stdout",
          "text": [
            "Found 4000 images belonging to 2 classes.\n",
            "Found 400 images belonging to 2 classes.\n"
          ]
        }
      ]
    },
    {
      "cell_type": "markdown",
      "source": [
        "# **Augmentasi Model dan Fit Model**"
      ],
      "metadata": {
        "id": "WbRxigFSPftY"
      }
    },
    {
      "cell_type": "code",
      "source": [
        "'''\n",
        "Import Library yang dibutuhkan\n",
        "'''\n",
        "\n",
        "from tensorflow.keras.models import Sequential\n",
        "from tensorflow.keras.layers import InputLayer, Dense, Flatten,Dropout, BatchNormalization\n",
        "import tensorflow as tf\n",
        "from tensorflow.keras.models import Model\n",
        "from tensorflow.keras.optimizers import Adam\n",
        "from tensorflow.keras.callbacks import EarlyStopping, ModelCheckpoint"
      ],
      "metadata": {
        "id": "LAczq-ZCPl1x"
      },
      "execution_count": 8,
      "outputs": []
    },
    {
      "cell_type": "code",
      "source": [
        "'''\n",
        "definisikan dan setting callback untuk :\n",
        "1. memantau performa model\n",
        "2. melakukan save model terbaik menggunakan model checkpoint\n",
        "3. memberhentikan pelatihan ketika tidak memnuhi syarat dalam parameter earlystopping\n",
        "'''\n",
        "\n",
        "callbacks = EarlyStopping(monitor='val_loss', patience=15, verbose=1, mode='auto')        \n",
        "directory_to_save_best_model_file = '/content/gdrive/MyDrive/Colab Notebooks/Tubes/Transfer Learning/model_drop_batch_weight_from_callback_2.h5'\n",
        "best_model = ModelCheckpoint(directory_to_save_best_model_file, monitor='val_accuracy', verbose = 1, save_best_only = True)"
      ],
      "metadata": {
        "id": "kziw1gLfPoox"
      },
      "execution_count": 9,
      "outputs": []
    },
    {
      "cell_type": "code",
      "source": [
        "'''\n",
        "definisikan pretrained model yang ingin digunakan\n",
        "'''\n",
        "\n",
        "VGG16_base = tf.keras.applications.VGG16(include_top=False, weights='imagenet', #include_top = false , berarti fully connected layer akan dipidah dari arsitektur\n",
        "                                                 input_tensor=None, input_shape=(224, 224,3))"
      ],
      "metadata": {
        "id": "7Jk7d_jYPtEs",
        "colab": {
          "base_uri": "https://localhost:8080/"
        },
        "outputId": "d4e41c4c-97a2-4fa9-bbed-58b7e6a28aef"
      },
      "execution_count": 10,
      "outputs": [
        {
          "output_type": "stream",
          "name": "stdout",
          "text": [
            "Downloading data from https://storage.googleapis.com/tensorflow/keras-applications/vgg16/vgg16_weights_tf_dim_ordering_tf_kernels_notop.h5\n",
            "58892288/58889256 [==============================] - 0s 0us/step\n",
            "58900480/58889256 [==============================] - 0s 0us/step\n"
          ]
        }
      ]
    },
    {
      "cell_type": "code",
      "source": [
        "'''\n",
        "melakukan setting bahwa model pretrained tidak akan dilatih ulang\n",
        "'''\n",
        "\n",
        "VGG16_base.trainable = False"
      ],
      "metadata": {
        "id": "RAbJxSC_Pt_d"
      },
      "execution_count": 11,
      "outputs": []
    },
    {
      "cell_type": "code",
      "source": [
        "'''\n",
        "mendefinisikan layer pada bagian fully connected layer\n",
        "'''\n",
        "\n",
        "print('Adding new layers')\n",
        "output = VGG16_base.get_layer(index = -1).output  \n",
        "output = Flatten()(output)\n",
        "output = Dense(256,activation = \"relu\")(output)\n",
        "output = BatchNormalization()(output)\n",
        "output = Dropout(0.5)(output)\n",
        "output = Dense(256,activation = \"relu\")(output)\n",
        "output = BatchNormalization()(output)\n",
        "output = Dropout(0.5)(output)\n",
        "output = Dense(1, activation='sigmoid')(output) \n",
        "print('New layers Finishing Added!!!!')"
      ],
      "metadata": {
        "colab": {
          "base_uri": "https://localhost:8080/"
        },
        "id": "53U5YkNkPxTd",
        "outputId": "5f6ed83d-cb99-4082-f68a-92fa74577678"
      },
      "execution_count": 12,
      "outputs": [
        {
          "output_type": "stream",
          "name": "stdout",
          "text": [
            "Adding new layers\n",
            "New layers Finishing Added!!!!\n"
          ]
        }
      ]
    },
    {
      "cell_type": "code",
      "source": [
        "VGG16_model = Model(VGG16_base.input, output)\n",
        "\n",
        "VGG16_model.summary()"
      ],
      "metadata": {
        "colab": {
          "base_uri": "https://localhost:8080/"
        },
        "id": "FB00wahJPz9D",
        "outputId": "b81cf80c-9c9d-4c93-b9fd-032967c79c3e"
      },
      "execution_count": 13,
      "outputs": [
        {
          "output_type": "stream",
          "name": "stdout",
          "text": [
            "Model: \"model\"\n",
            "_________________________________________________________________\n",
            " Layer (type)                Output Shape              Param #   \n",
            "=================================================================\n",
            " input_1 (InputLayer)        [(None, 224, 224, 3)]     0         \n",
            "                                                                 \n",
            " block1_conv1 (Conv2D)       (None, 224, 224, 64)      1792      \n",
            "                                                                 \n",
            " block1_conv2 (Conv2D)       (None, 224, 224, 64)      36928     \n",
            "                                                                 \n",
            " block1_pool (MaxPooling2D)  (None, 112, 112, 64)      0         \n",
            "                                                                 \n",
            " block2_conv1 (Conv2D)       (None, 112, 112, 128)     73856     \n",
            "                                                                 \n",
            " block2_conv2 (Conv2D)       (None, 112, 112, 128)     147584    \n",
            "                                                                 \n",
            " block2_pool (MaxPooling2D)  (None, 56, 56, 128)       0         \n",
            "                                                                 \n",
            " block3_conv1 (Conv2D)       (None, 56, 56, 256)       295168    \n",
            "                                                                 \n",
            " block3_conv2 (Conv2D)       (None, 56, 56, 256)       590080    \n",
            "                                                                 \n",
            " block3_conv3 (Conv2D)       (None, 56, 56, 256)       590080    \n",
            "                                                                 \n",
            " block3_pool (MaxPooling2D)  (None, 28, 28, 256)       0         \n",
            "                                                                 \n",
            " block4_conv1 (Conv2D)       (None, 28, 28, 512)       1180160   \n",
            "                                                                 \n",
            " block4_conv2 (Conv2D)       (None, 28, 28, 512)       2359808   \n",
            "                                                                 \n",
            " block4_conv3 (Conv2D)       (None, 28, 28, 512)       2359808   \n",
            "                                                                 \n",
            " block4_pool (MaxPooling2D)  (None, 14, 14, 512)       0         \n",
            "                                                                 \n",
            " block5_conv1 (Conv2D)       (None, 14, 14, 512)       2359808   \n",
            "                                                                 \n",
            " block5_conv2 (Conv2D)       (None, 14, 14, 512)       2359808   \n",
            "                                                                 \n",
            " block5_conv3 (Conv2D)       (None, 14, 14, 512)       2359808   \n",
            "                                                                 \n",
            " block5_pool (MaxPooling2D)  (None, 7, 7, 512)         0         \n",
            "                                                                 \n",
            " flatten (Flatten)           (None, 25088)             0         \n",
            "                                                                 \n",
            " dense (Dense)               (None, 256)               6422784   \n",
            "                                                                 \n",
            " batch_normalization (BatchN  (None, 256)              1024      \n",
            " ormalization)                                                   \n",
            "                                                                 \n",
            " dropout (Dropout)           (None, 256)               0         \n",
            "                                                                 \n",
            " dense_1 (Dense)             (None, 256)               65792     \n",
            "                                                                 \n",
            " batch_normalization_1 (Batc  (None, 256)              1024      \n",
            " hNormalization)                                                 \n",
            "                                                                 \n",
            " dropout_1 (Dropout)         (None, 256)               0         \n",
            "                                                                 \n",
            " dense_2 (Dense)             (None, 1)                 257       \n",
            "                                                                 \n",
            "=================================================================\n",
            "Total params: 21,205,569\n",
            "Trainable params: 6,489,857\n",
            "Non-trainable params: 14,715,712\n",
            "_________________________________________________________________\n"
          ]
        }
      ]
    },
    {
      "cell_type": "code",
      "source": [
        "VGG16_model.compile(optimizer=tf.keras.optimizers.Adam(learning_rate=0.0001), loss='binary_crossentropy', \n",
        "                        metrics =['accuracy'])"
      ],
      "metadata": {
        "id": "Et7ZSVqyP2FR"
      },
      "execution_count": 14,
      "outputs": []
    },
    {
      "cell_type": "code",
      "source": [
        "history = VGG16_model.fit(\n",
        "      train_generator,\n",
        "      steps_per_epoch = 100,  # images = batch_size * steps\n",
        "      epochs=100,\n",
        "      validation_data=validation_generator,\n",
        "      validation_steps = 10,  #  images = batch_size * steps\n",
        "      callbacks = [callbacks, best_model])"
      ],
      "metadata": {
        "colab": {
          "base_uri": "https://localhost:8080/"
        },
        "id": "ypmczmAnP28w",
        "outputId": "ffd15e98-6677-482e-bd5a-41c51c85bd88"
      },
      "execution_count": 15,
      "outputs": [
        {
          "output_type": "stream",
          "name": "stdout",
          "text": [
            "Epoch 1/100\n",
            "100/100 [==============================] - ETA: 0s - loss: 0.6665 - accuracy: 0.7010\n",
            "Epoch 00001: val_accuracy improved from -inf to 0.77500, saving model to /content/gdrive/MyDrive/Colab Notebooks/Tubes/Transfer Learning/model_drop_batch_weight_from_callback_2.h5\n",
            "100/100 [==============================] - 52s 369ms/step - loss: 0.6665 - accuracy: 0.7010 - val_loss: 0.4826 - val_accuracy: 0.7750\n",
            "Epoch 2/100\n",
            "100/100 [==============================] - ETA: 0s - loss: 0.5308 - accuracy: 0.7660\n",
            "Epoch 00002: val_accuracy improved from 0.77500 to 0.82500, saving model to /content/gdrive/MyDrive/Colab Notebooks/Tubes/Transfer Learning/model_drop_batch_weight_from_callback_2.h5\n",
            "100/100 [==============================] - 35s 353ms/step - loss: 0.5308 - accuracy: 0.7660 - val_loss: 0.3621 - val_accuracy: 0.8250\n",
            "Epoch 3/100\n",
            "100/100 [==============================] - ETA: 0s - loss: 0.5005 - accuracy: 0.7820\n",
            "Epoch 00003: val_accuracy improved from 0.82500 to 0.87500, saving model to /content/gdrive/MyDrive/Colab Notebooks/Tubes/Transfer Learning/model_drop_batch_weight_from_callback_2.h5\n",
            "100/100 [==============================] - 36s 363ms/step - loss: 0.5005 - accuracy: 0.7820 - val_loss: 0.3187 - val_accuracy: 0.8750\n",
            "Epoch 4/100\n",
            "100/100 [==============================] - ETA: 0s - loss: 0.4938 - accuracy: 0.7875\n",
            "Epoch 00004: val_accuracy did not improve from 0.87500\n",
            "100/100 [==============================] - 34s 333ms/step - loss: 0.4938 - accuracy: 0.7875 - val_loss: 0.6813 - val_accuracy: 0.7750\n",
            "Epoch 5/100\n",
            "100/100 [==============================] - ETA: 0s - loss: 0.4717 - accuracy: 0.8020\n",
            "Epoch 00005: val_accuracy did not improve from 0.87500\n",
            "100/100 [==============================] - 33s 329ms/step - loss: 0.4717 - accuracy: 0.8020 - val_loss: 0.3229 - val_accuracy: 0.8400\n",
            "Epoch 6/100\n",
            "100/100 [==============================] - ETA: 0s - loss: 0.4515 - accuracy: 0.8100\n",
            "Epoch 00006: val_accuracy improved from 0.87500 to 0.88500, saving model to /content/gdrive/MyDrive/Colab Notebooks/Tubes/Transfer Learning/model_drop_batch_weight_from_callback_2.h5\n",
            "100/100 [==============================] - 35s 346ms/step - loss: 0.4515 - accuracy: 0.8100 - val_loss: 0.2798 - val_accuracy: 0.8850\n",
            "Epoch 7/100\n",
            "100/100 [==============================] - ETA: 0s - loss: 0.4367 - accuracy: 0.8145\n",
            "Epoch 00007: val_accuracy did not improve from 0.88500\n",
            "100/100 [==============================] - 33s 330ms/step - loss: 0.4367 - accuracy: 0.8145 - val_loss: 0.4003 - val_accuracy: 0.8350\n",
            "Epoch 8/100\n",
            "100/100 [==============================] - ETA: 0s - loss: 0.4624 - accuracy: 0.8140\n",
            "Epoch 00008: val_accuracy did not improve from 0.88500\n",
            "100/100 [==============================] - 33s 328ms/step - loss: 0.4624 - accuracy: 0.8140 - val_loss: 0.4543 - val_accuracy: 0.8250\n",
            "Epoch 9/100\n",
            "100/100 [==============================] - ETA: 0s - loss: 0.4020 - accuracy: 0.8245\n",
            "Epoch 00009: val_accuracy did not improve from 0.88500\n",
            "100/100 [==============================] - 33s 328ms/step - loss: 0.4020 - accuracy: 0.8245 - val_loss: 0.3263 - val_accuracy: 0.8700\n",
            "Epoch 10/100\n",
            "100/100 [==============================] - ETA: 0s - loss: 0.4190 - accuracy: 0.8210\n",
            "Epoch 00010: val_accuracy improved from 0.88500 to 0.89000, saving model to /content/gdrive/MyDrive/Colab Notebooks/Tubes/Transfer Learning/model_drop_batch_weight_from_callback_2.h5\n",
            "100/100 [==============================] - 35s 351ms/step - loss: 0.4190 - accuracy: 0.8210 - val_loss: 0.2579 - val_accuracy: 0.8900\n",
            "Epoch 11/100\n",
            "100/100 [==============================] - ETA: 0s - loss: 0.4175 - accuracy: 0.8120\n",
            "Epoch 00011: val_accuracy improved from 0.89000 to 0.94000, saving model to /content/gdrive/MyDrive/Colab Notebooks/Tubes/Transfer Learning/model_drop_batch_weight_from_callback_2.h5\n",
            "100/100 [==============================] - 35s 351ms/step - loss: 0.4175 - accuracy: 0.8120 - val_loss: 0.1754 - val_accuracy: 0.9400\n",
            "Epoch 12/100\n",
            "100/100 [==============================] - ETA: 0s - loss: 0.3957 - accuracy: 0.8305\n",
            "Epoch 00012: val_accuracy did not improve from 0.94000\n",
            "100/100 [==============================] - 33s 331ms/step - loss: 0.3957 - accuracy: 0.8305 - val_loss: 0.2078 - val_accuracy: 0.9250\n",
            "Epoch 13/100\n",
            "100/100 [==============================] - ETA: 0s - loss: 0.3924 - accuracy: 0.8305\n",
            "Epoch 00013: val_accuracy did not improve from 0.94000\n",
            "100/100 [==============================] - 33s 327ms/step - loss: 0.3924 - accuracy: 0.8305 - val_loss: 0.2825 - val_accuracy: 0.8900\n",
            "Epoch 14/100\n",
            "100/100 [==============================] - ETA: 0s - loss: 0.3703 - accuracy: 0.8395\n",
            "Epoch 00014: val_accuracy did not improve from 0.94000\n",
            "100/100 [==============================] - 33s 328ms/step - loss: 0.3703 - accuracy: 0.8395 - val_loss: 0.2920 - val_accuracy: 0.8750\n",
            "Epoch 15/100\n",
            "100/100 [==============================] - ETA: 0s - loss: 0.3588 - accuracy: 0.8410\n",
            "Epoch 00015: val_accuracy did not improve from 0.94000\n",
            "100/100 [==============================] - 33s 328ms/step - loss: 0.3588 - accuracy: 0.8410 - val_loss: 0.1874 - val_accuracy: 0.9400\n",
            "Epoch 16/100\n",
            "100/100 [==============================] - ETA: 0s - loss: 0.3932 - accuracy: 0.8420\n",
            "Epoch 00016: val_accuracy did not improve from 0.94000\n",
            "100/100 [==============================] - 33s 331ms/step - loss: 0.3932 - accuracy: 0.8420 - val_loss: 0.1826 - val_accuracy: 0.9200\n",
            "Epoch 17/100\n",
            "100/100 [==============================] - ETA: 0s - loss: 0.3851 - accuracy: 0.8470\n",
            "Epoch 00017: val_accuracy did not improve from 0.94000\n",
            "100/100 [==============================] - 33s 331ms/step - loss: 0.3851 - accuracy: 0.8470 - val_loss: 0.2121 - val_accuracy: 0.9100\n",
            "Epoch 18/100\n",
            "100/100 [==============================] - ETA: 0s - loss: 0.3667 - accuracy: 0.8530\n",
            "Epoch 00018: val_accuracy did not improve from 0.94000\n",
            "100/100 [==============================] - 33s 330ms/step - loss: 0.3667 - accuracy: 0.8530 - val_loss: 0.1378 - val_accuracy: 0.9400\n",
            "Epoch 19/100\n",
            "100/100 [==============================] - ETA: 0s - loss: 0.3598 - accuracy: 0.8470\n",
            "Epoch 00019: val_accuracy did not improve from 0.94000\n",
            "100/100 [==============================] - 33s 331ms/step - loss: 0.3598 - accuracy: 0.8470 - val_loss: 0.1866 - val_accuracy: 0.9350\n",
            "Epoch 20/100\n",
            "100/100 [==============================] - ETA: 0s - loss: 0.3671 - accuracy: 0.8510\n",
            "Epoch 00020: val_accuracy did not improve from 0.94000\n",
            "100/100 [==============================] - 33s 329ms/step - loss: 0.3671 - accuracy: 0.8510 - val_loss: 0.1962 - val_accuracy: 0.9200\n",
            "Epoch 21/100\n",
            "100/100 [==============================] - ETA: 0s - loss: 0.3310 - accuracy: 0.8625\n",
            "Epoch 00021: val_accuracy did not improve from 0.94000\n",
            "100/100 [==============================] - 33s 328ms/step - loss: 0.3310 - accuracy: 0.8625 - val_loss: 0.2844 - val_accuracy: 0.9000\n",
            "Epoch 22/100\n",
            "100/100 [==============================] - ETA: 0s - loss: 0.3385 - accuracy: 0.8660\n",
            "Epoch 00022: val_accuracy did not improve from 0.94000\n",
            "100/100 [==============================] - 33s 331ms/step - loss: 0.3385 - accuracy: 0.8660 - val_loss: 0.2828 - val_accuracy: 0.9050\n",
            "Epoch 23/100\n",
            "100/100 [==============================] - ETA: 0s - loss: 0.3847 - accuracy: 0.8405\n",
            "Epoch 00023: val_accuracy did not improve from 0.94000\n",
            "100/100 [==============================] - 33s 330ms/step - loss: 0.3847 - accuracy: 0.8405 - val_loss: 0.2529 - val_accuracy: 0.9050\n",
            "Epoch 24/100\n",
            "100/100 [==============================] - ETA: 0s - loss: 0.3517 - accuracy: 0.8575\n",
            "Epoch 00024: val_accuracy did not improve from 0.94000\n",
            "100/100 [==============================] - 33s 330ms/step - loss: 0.3517 - accuracy: 0.8575 - val_loss: 0.2278 - val_accuracy: 0.9150\n",
            "Epoch 25/100\n",
            "100/100 [==============================] - ETA: 0s - loss: 0.3374 - accuracy: 0.8625\n",
            "Epoch 00025: val_accuracy did not improve from 0.94000\n",
            "100/100 [==============================] - 33s 330ms/step - loss: 0.3374 - accuracy: 0.8625 - val_loss: 0.1968 - val_accuracy: 0.9300\n",
            "Epoch 26/100\n",
            "100/100 [==============================] - ETA: 0s - loss: 0.3214 - accuracy: 0.8685\n",
            "Epoch 00026: val_accuracy did not improve from 0.94000\n",
            "100/100 [==============================] - 33s 329ms/step - loss: 0.3214 - accuracy: 0.8685 - val_loss: 0.2352 - val_accuracy: 0.9150\n",
            "Epoch 27/100\n",
            "100/100 [==============================] - ETA: 0s - loss: 0.3347 - accuracy: 0.8575\n",
            "Epoch 00027: val_accuracy did not improve from 0.94000\n",
            "100/100 [==============================] - 33s 328ms/step - loss: 0.3347 - accuracy: 0.8575 - val_loss: 0.1879 - val_accuracy: 0.9250\n",
            "Epoch 28/100\n",
            "100/100 [==============================] - ETA: 0s - loss: 0.3607 - accuracy: 0.8495\n",
            "Epoch 00028: val_accuracy did not improve from 0.94000\n",
            "100/100 [==============================] - 33s 329ms/step - loss: 0.3607 - accuracy: 0.8495 - val_loss: 0.1876 - val_accuracy: 0.9300\n",
            "Epoch 29/100\n",
            "100/100 [==============================] - ETA: 0s - loss: 0.3241 - accuracy: 0.8645\n",
            "Epoch 00029: val_accuracy did not improve from 0.94000\n",
            "100/100 [==============================] - 33s 328ms/step - loss: 0.3241 - accuracy: 0.8645 - val_loss: 0.2033 - val_accuracy: 0.9250\n",
            "Epoch 30/100\n",
            "100/100 [==============================] - ETA: 0s - loss: 0.3232 - accuracy: 0.8605\n",
            "Epoch 00030: val_accuracy did not improve from 0.94000\n",
            "100/100 [==============================] - 33s 329ms/step - loss: 0.3232 - accuracy: 0.8605 - val_loss: 0.2110 - val_accuracy: 0.9300\n",
            "Epoch 31/100\n",
            "100/100 [==============================] - ETA: 0s - loss: 0.3521 - accuracy: 0.8495\n",
            "Epoch 00031: val_accuracy did not improve from 0.94000\n",
            "100/100 [==============================] - 33s 329ms/step - loss: 0.3521 - accuracy: 0.8495 - val_loss: 0.1664 - val_accuracy: 0.9400\n",
            "Epoch 32/100\n",
            "100/100 [==============================] - ETA: 0s - loss: 0.3354 - accuracy: 0.8600\n",
            "Epoch 00032: val_accuracy did not improve from 0.94000\n",
            "100/100 [==============================] - 33s 329ms/step - loss: 0.3354 - accuracy: 0.8600 - val_loss: 0.2587 - val_accuracy: 0.9050\n",
            "Epoch 33/100\n",
            "100/100 [==============================] - ETA: 0s - loss: 0.3308 - accuracy: 0.8605\n",
            "Epoch 00033: val_accuracy did not improve from 0.94000\n",
            "100/100 [==============================] - 33s 331ms/step - loss: 0.3308 - accuracy: 0.8605 - val_loss: 0.2245 - val_accuracy: 0.9100\n",
            "Epoch 00033: early stopping\n"
          ]
        }
      ]
    },
    {
      "cell_type": "markdown",
      "source": [
        "# **Model Evaluasi**"
      ],
      "metadata": {
        "id": "-12p9102P6Pn"
      }
    },
    {
      "cell_type": "code",
      "source": [
        "import matplotlib.pyplot as plt\n",
        "acc = history.history['accuracy']\n",
        "val_acc = history.history['val_accuracy']\n",
        "loss = history.history['loss']\n",
        "val_loss = history.history['val_loss']\n",
        "\n",
        "epochs = range(len(acc))\n",
        "\n",
        "plt.plot(epochs, acc, 'bo', label='Training accuracy')\n",
        "plt.plot(epochs, val_acc, 'b', label='Validation accuracy')\n",
        "plt.title('Training and validation accuracy')\n",
        "\n",
        "plt.figure()\n",
        "\n",
        "plt.plot(epochs, loss, 'bo', label='Training Loss')\n",
        "plt.plot(epochs, val_loss, 'b', label='Validation Loss')\n",
        "plt.title('Training and validation loss')\n",
        "plt.legend()\n",
        "\n",
        "plt.show()"
      ],
      "metadata": {
        "colab": {
          "base_uri": "https://localhost:8080/",
          "height": 545
        },
        "id": "TDEtVIocP8TC",
        "outputId": "265152ae-74cf-4924-b99e-f36b52025bb5"
      },
      "execution_count": 16,
      "outputs": [
        {
          "output_type": "display_data",
          "data": {
            "image/png": "[encoded data removed]",
            "text/plain": [
              "<Figure size 432x288 with 1 Axes>"
            ]
          },
          "metadata": {
            "needs_background": "light"
          }
        },
        {
          "output_type": "display_data",
          "data": {
            "image/png": "[encoded data removed]",
            "text/plain": [
              "<Figure size 432x288 with 1 Axes>"
            ]
          },
          "metadata": {
            "needs_background": "light"
          }
        }
      ]
    },
    {
      "cell_type": "code",
      "source": [
        "# import some of library that we need to look the confusion matrix, recall, f1_score, and accuracy score to look how much your model is well\n",
        "import numpy as np \n",
        "from keras.preprocessing.image import ImageDataGenerator\n",
        "import matplotlib.pyplot as plt\n",
        "from sklearn.metrics import f1_score, recall_score, accuracy_score\n",
        "from sklearn.metrics import precision_score, confusion_matrix, classification_report\n",
        "from sklearn import metrics\n",
        "\n",
        "import seaborn as sns\n",
        "sns.set(style='whitegrid')"
      ],
      "metadata": {
        "id": "_BCPSdDzqOAg"
      },
      "execution_count": 21,
      "outputs": []
    },
    {
      "cell_type": "code",
      "source": [
        "# loading model to evaluate more depth\n",
        "from keras.models import load_model\n",
        "model_path = '/content/gdrive/MyDrive/Colab Notebooks/Tubes/Transfer Learning/model_drop_batch_weight_from_callback_2.h5'\n",
        "model = load_model(model_path)"
      ],
      "metadata": {
        "id": "RElmcsDPqSSF"
      },
      "execution_count": 19,
      "outputs": []
    },
    {
      "cell_type": "code",
      "source": [
        "def my_metrics(y_true, y_pred):\n",
        "    accuracy=accuracy_score(y_true, y_pred)\n",
        "    precision=precision_score(y_true, y_pred,average='weighted')\n",
        "    f1Score=f1_score(y_true, y_pred, average='weighted') \n",
        "    print(\"Accuracy  : {}\".format(accuracy))\n",
        "    print(\"Precision : {}\".format(precision))\n",
        "    print(\"f1Score : {}\".format(f1Score))\n",
        "    cm=confusion_matrix(y_true, y_pred)\n",
        "    print(cm)\n",
        "    return accuracy, precision, f1Score\n",
        "\n",
        "height=224; width=224\n",
        "batch_size=20\n",
        "\n",
        "test_datagen = ImageDataGenerator(rescale=1./255)\n",
        "\n",
        "TESTING_DIR = val_dir\n",
        "\n",
        "test_generator = test_datagen.flow_from_directory(TESTING_DIR,\n",
        "                                                  batch_size=batch_size,                                                             \n",
        "                                                  target_size=(height, width),\n",
        "                                                  class_mode= None,\n",
        "                                                  shuffle=False\n",
        "                                                  )\n",
        "\n",
        "predictions = model.predict_generator(generator=test_generator)\n",
        "yPredictions = predictions > 0.5\n",
        "true_classes = test_generator.classes\n",
        "class_names = test_generator.class_indices\n",
        "Cmatrix_test = confusion_matrix(true_classes, yPredictions)\n",
        "\n",
        "testAcc,testPrec, testFScore = my_metrics(true_classes, yPredictions)\n",
        "\n",
        "plt.figure(figsize=(20,20))\n",
        "ax= plt.subplot()\n",
        "data = np.asarray(Cmatrix_test).reshape(2,2)\n",
        "sns.heatmap(data,annot=True, fmt='',ax=ax, cmap=plt.cm.Reds)\n",
        "ax.set_xlabel('Predicted labels')\n",
        "ax.set_ylabel('True labels') \n",
        "ax.set_title('Confusion Matrix')\n",
        "ax.xaxis.set_ticklabels(class_names)   \n",
        "ax.yaxis.set_ticklabels(class_names)\n",
        "plt.title('Confusion Matrix Test',fontsize=14)\n",
        "plt.show()"
      ],
      "metadata": {
        "colab": {
          "base_uri": "https://localhost:8080/",
          "height": 1000
        },
        "id": "iSwEUGCoq6C8",
        "outputId": "b240a5d6-91fb-4c1a-e713-4fc60f25042a"
      },
      "execution_count": 23,
      "outputs": [
        {
          "output_type": "stream",
          "name": "stdout",
          "text": [
            "Found 400 images belonging to 2 classes.\n"
          ]
        },
        {
          "output_type": "stream",
          "name": "stderr",
          "text": [
            "/usr/local/lib/python3.7/dist-packages/ipykernel_launcher.py:26: UserWarning: `Model.predict_generator` is deprecated and will be removed in a future version. Please use `Model.predict`, which supports generators.\n"
          ]
        },
        {
          "output_type": "stream",
          "name": "stdout",
          "text": [
            "Accuracy  : 0.9275\n",
            "Precision : 0.9275962091470581\n",
            "f1Score : 0.9274959216455926\n",
            "[[187  13]\n",
            " [ 16 184]]\n"
          ]
        },
        {
          "output_type": "display_data",
          "data": {
            "image/png": "[encoded data removed]",
            "text/plain": [
              "<Figure size 1440x1440 with 2 Axes>"
            ]
          },
          "metadata": {}
        }
      ]
    },
    {
      "cell_type": "code",
      "source": [
        "from sklearn.metrics import classification_report\n",
        "print(classification_report(true_classes, yPredictions, target_names=class_names))"
      ],
      "metadata": {
        "colab": {
          "base_uri": "https://localhost:8080/"
        },
        "id": "IGi6S4OwqFiL",
        "outputId": "d622a3a7-8613-489b-c70e-d1ed8d6fbf9c"
      },
      "execution_count": 24,
      "outputs": [
        {
          "output_type": "stream",
          "name": "stdout",
          "text": [
            "              precision    recall  f1-score   support\n",
            "\n",
            "      female       0.92      0.94      0.93       200\n",
            "        male       0.93      0.92      0.93       200\n",
            "\n",
            "    accuracy                           0.93       400\n",
            "   macro avg       0.93      0.93      0.93       400\n",
            "weighted avg       0.93      0.93      0.93       400\n",
            "\n"
          ]
        }
      ]
    }
  ]
}